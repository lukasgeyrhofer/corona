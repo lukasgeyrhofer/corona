{
 "cells": [
  {
   "cell_type": "code",
   "execution_count": null,
   "metadata": {},
   "outputs": [],
   "source": [
    "# data analysis\n",
    "import numpy as np\n",
    "import pandas as pd\n",
    "import sys\n",
    "import glob\n",
    "import os,time\n",
    "\n",
    "# plotting\n",
    "import matplotlib\n",
    "import matplotlib.pyplot as plt\n",
    "%matplotlib inline\n",
    "matplotlib.rcParams['figure.figsize'] = [15,12]\n",
    "import matplotlib.dates as mdates\n",
    "from matplotlib.ticker import (MultipleLocator, FormatStrFormatter, AutoMinorLocator)\n",
    "\n",
    "# own dataclass\n",
    "from imp import reload\n",
    "import coronadataclass as cdc; reload(cdc);"
   ]
  },
  {
   "cell_type": "code",
   "execution_count": null,
   "metadata": {},
   "outputs": [],
   "source": [
    "# load data\n",
    "data = cdc.CoronaData()\n"
   ]
  },
  {
   "cell_type": "code",
   "execution_count": null,
   "metadata": {},
   "outputs": [],
   "source": [
    "threshold  = 150\n",
    "\n",
    "colornames       = [cn for cn in matplotlib.colors.TABLEAU_COLORS.keys() if (cn.upper() != 'TAB:WHITE' and cn.upper() != 'TAB:GRAY')]\n",
    "x                = np.arange(len(data))\n",
    "fig, ax          = plt.subplots()\n",
    "lgnd             = []\n",
    "scidx            = 0\n",
    "\n",
    "specialcountries = ['Austria','Italy','Germany','Spain','US']\n",
    "\n",
    "for country,countrydata in data:\n",
    "    totinf = np.nan_to_num(countrydata['Confirmed'])\n",
    "    if totinf[-1] >= threshold:\n",
    "        startday = np.argmin((totinf-threshold)**2)\n",
    "        lgnd.append(country + ' ({:.0f})'.format(totinf[-1]))\n",
    "        c  = 'lightgray'\n",
    "        z  = 100\n",
    "        lw = 3\n",
    "        if country in specialcountries:\n",
    "            c      = colornames[scidx % len(colornames)]\n",
    "            z      = 101 + scidx\n",
    "            lw     = 4\n",
    "            scidx += 1\n",
    "        ax.plot(x[:len(totinf[startday:])], totinf[startday:], c = c, zorder = z, lw = lw, alpha = .9)\n",
    "\n",
    "# exponential plots with doubling time in days\n",
    "#for doublingtime in np.arange(2,6):\n",
    "#    ax.plot(x,150 * np.power(2,x/doublingtime), lw = 10, zorder = 80, c = 'black',alpha = .4)\n",
    "        \n",
    "plt.legend(lgnd)\n",
    "plt.xlim([0,40])\n",
    "ax.xaxis.set_major_locator(MultipleLocator(7))\n",
    "plt.ylim([threshold*.7,1.5e5])\n",
    "plt.xlabel(r'Days Since Total Reported Infections = {}'.format(threshold))\n",
    "plt.ylabel(r'Total Reported Infections')\n",
    "#plt.title('Data downloaded: ' + datatime)\n",
    "plt.yscale('log')\n",
    "plt.grid()\n",
    "plt.show()"
   ]
  },
  {
   "cell_type": "code",
   "execution_count": null,
   "metadata": {},
   "outputs": [],
   "source": [
    "scidx = 0\n",
    "lgnd = []\n",
    "for country in AllCountries:\n",
    "    newinf = np.nan_to_num(data_newcases[country])\n",
    "    if country != 'China' and newinf[-1] > 20:\n",
    "        lgnd.append(country)\n",
    "        c  = 'lightgray'\n",
    "        z  = 100\n",
    "        lw = 3\n",
    "        if country in specialcountries:\n",
    "            c      = colornames[scidx % len(colornames)]\n",
    "            z      = 101 + scidx\n",
    "            lw     = 4\n",
    "            scidx += 1\n",
    "        plt.plot(x,data_newcases[country], c=c, zorder = z, lw = lw, alpha = .8)\n",
    "\n",
    "plt.legend(lgnd)\n",
    "plt.yscale('log')\n",
    "plt.show()"
   ]
  },
  {
   "cell_type": "code",
   "execution_count": null,
   "metadata": {},
   "outputs": [],
   "source": [
    "print(data.countrylist)\n",
    "print(data.US)"
   ]
  },
  {
   "cell_type": "code",
   "execution_count": null,
   "metadata": {},
   "outputs": [],
   "source": [
    "plt.scatter(data.US['Date'],data.US['Confirmed'])\n",
    "plt.yscale('log')\n",
    "plt.ylim([1,1e4])\n",
    "plt.show()\n"
   ]
  },
  {
   "cell_type": "code",
   "execution_count": null,
   "metadata": {},
   "outputs": [],
   "source": []
  }
 ],
 "metadata": {
  "kernelspec": {
   "display_name": "Python 3",
   "language": "python",
   "name": "python3"
  },
  "language_info": {
   "codemirror_mode": {
    "name": "ipython",
    "version": 3
   },
   "file_extension": ".py",
   "mimetype": "text/x-python",
   "name": "python",
   "nbconvert_exporter": "python",
   "pygments_lexer": "ipython3",
   "version": "3.7.6"
  }
 },
 "nbformat": 4,
 "nbformat_minor": 2
}
