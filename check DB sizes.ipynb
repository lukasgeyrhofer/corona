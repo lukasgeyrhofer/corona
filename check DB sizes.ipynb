{
 "cells": [
  {
   "cell_type": "code",
   "execution_count": 83,
   "metadata": {},
   "outputs": [],
   "source": [
    "import pandas as pd\n",
    "import numpy as np"
   ]
  },
  {
   "cell_type": "code",
   "execution_count": 84,
   "metadata": {},
   "outputs": [],
   "source": [
    "data_cccsl     = pd.read_csv('COVID19_data_PAPER_VERSION.csv',           sep = ';', parse_dates = ['Date'])\n",
    "data_whophsm   = pd.read_csv('COVID19_data_PAPER_VERSION_WHOPHSM.csv',   sep = ';', parse_dates = ['Date'])\n",
    "data_coronanet = pd.read_csv('COVID19_data_PAPER_VERSION_CORONANET.csv', sep = ';', parse_dates = ['Date'])\n",
    "\n",
    "\n",
    "# various columns for Peter's analysis; additional columns for Deaths/R/...\n",
    "dropcolumns1   = ['Population [million]', 'Population Density','GDP pc PPP', 'HDI', 'VA', 'PS', 'GE', 'RQ', 'RL', 'CC',  'Deaths', 'Recovered', 'Growth rate', 'R']\n",
    "# need to do checks on these, drop later\n",
    "dropcolumns2   = ['Country','Confirmed','Date']\n",
    "# with these columns dropped, only NPIs should remain as column names\n"
   ]
  },
  {
   "cell_type": "code",
   "execution_count": 103,
   "metadata": {},
   "outputs": [],
   "source": [
    "def get_counts(data, enddate = '2020-05-01', minconfirmed = 30):\n",
    "    measure_count     = 0\n",
    "    measure_cum_count = 0\n",
    "    country_count     = 0\n",
    "    \n",
    "    # iterate over countries\n",
    "    for country, cdata in data[(data['Confirmed'] >= minconfirmed) & (data['Date'] < np.datetime64(enddate))].drop(columns = dropcolumns1).groupby('Country'):\n",
    "        # entries are 'True' for single date when implemented, convert to int such that entries are 0/1\n",
    "        cdata_count        = cdata.drop(columns = dropcolumns2).astype(int).sum()\n",
    "        \n",
    "        # counting all 'True' entries = all measures\n",
    "        measure_count     += cdata_count.sum()\n",
    "        \n",
    "        # dropping duplicate measures in a country\n",
    "        measure_cum_count += cdata_count[cdata_count > 0].shape[0]\n",
    "        \n",
    "        # only add country if they have some measures\n",
    "        if cdata_count[cdata_count > 0].shape[0] > 0:\n",
    "            country_count += 1\n",
    "    \n",
    "    # check all columns that have entries 'True', ignore association with countries\n",
    "    allmeasure_count = data.drop(columns = dropcolumns1).drop(columns = dropcolumns2).astype(int).sum()\n",
    "    \n",
    "    return country_count, measure_count, measure_cum_count, allmeasure_count[allmeasure_count > 0].shape[0]\n"
   ]
  },
  {
   "cell_type": "code",
   "execution_count": 104,
   "metadata": {
    "scrolled": false
   },
   "outputs": [
    {
     "name": "stdout",
     "output_type": "stream",
     "text": [
      "CCCSL     (77, 3112, 1386, 46)\n",
      "WHOPHSM   (205, 13155, 3650, 40)\n",
      "CORONANET (194, 10489, 4731, 107)\n"
     ]
    }
   ],
   "source": [
    "enddate      = '2020-05-01'\n",
    "minconfirmed = 30\n",
    "\n",
    "print('CCCSL    ', get_counts(data_cccsl,     enddate, minconfirmed))\n",
    "print('WHOPHSM  ', get_counts(data_whophsm,   enddate, minconfirmed))\n",
    "print('CORONANET', get_counts(data_coronanet, enddate, minconfirmed))"
   ]
  },
  {
   "cell_type": "code",
   "execution_count": null,
   "metadata": {},
   "outputs": [],
   "source": []
  }
 ],
 "metadata": {
  "kernelspec": {
   "display_name": "Python 3",
   "language": "python",
   "name": "python3"
  },
  "language_info": {
   "codemirror_mode": {
    "name": "ipython",
    "version": 3
   },
   "file_extension": ".py",
   "mimetype": "text/x-python",
   "name": "python",
   "nbconvert_exporter": "python",
   "pygments_lexer": "ipython3",
   "version": "3.7.9"
  }
 },
 "nbformat": 4,
 "nbformat_minor": 2
}
