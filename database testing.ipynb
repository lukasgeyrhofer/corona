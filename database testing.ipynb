{
 "cells": [
  {
   "cell_type": "code",
   "execution_count": 3,
   "metadata": {},
   "outputs": [],
   "source": [
    "# basics\n",
    "import numpy as np\n",
    "import pandas as pd\n",
    "import datetime\n",
    "import re\n",
    "import os,glob\n",
    "import pickle\n",
    "import textwrap\n",
    "\n",
    "# statistics\n",
    "import statsmodels.api as sm\n",
    "import statsmodels.formula.api as smf\n",
    "\n",
    "\n",
    "# plotting\n",
    "import matplotlib\n",
    "import matplotlib.pyplot as plt\n",
    "%matplotlib inline\n",
    "matplotlib.rcParams['figure.figsize'] = [15,12]\n",
    "\n",
    "# own data wrappers\n",
    "from imp import reload\n",
    "import measureclass as mc; reload(mc);\n",
    "import coronadataclass as cdc; reload(cdc);\n",
    "import crossvalidationclass as cvc; reload(cvc);\n",
    "\n",
    "np.seterr(divide = 'ignore');\n"
   ]
  },
  {
   "cell_type": "code",
   "execution_count": 4,
   "metadata": {
    "scrolled": false
   },
   "outputs": [],
   "source": [
    "cccsl     = mc.COVID19_measures(datasource = 'CCCSL',     download_data = True)\n",
    "oxford    = mc.COVID19_measures(datasource = 'OXFORD',    download_data = True)\n",
    "whophsm   = mc.COVID19_measures(datasource = 'WHOPHSM',   download_data = True)\n",
    "acaps     = mc.COVID19_measures(datasource = 'ACAPS',     download_data = True)\n",
    "coronanet = mc.COVID19_measures(datasource = 'CORONANET', download_data = True)\n",
    "hitcovid  = mc.COVID19_measures(datasource = 'HITCOVID',  download_data = True)"
   ]
  },
  {
   "cell_type": "code",
   "execution_count": null,
   "metadata": {},
   "outputs": [],
   "source": [
    "print('           {:8s} {:9s}'.format('Measures','Countries'))\n",
    "print('CCCSL:     {:8d} {:9d}'.format(cccsl.MeasureList(mincount = 5).shape[0],     len(cccsl.countrylist)))\n",
    "print('OXFORD:    {:8d} {:9d}'.format(oxford.MeasureList(mincount = 5).shape[0],    len(oxford.countrylist)))\n",
    "print('WHOPHSM:   {:8d} {:9d}'.format(whophsm.MeasureList(mincount = 5).shape[0],   len(whophsm.countrylist)))\n",
    "print('ACAPS:     {:8d} {:9d}'.format(acaps.MeasureList(mincount = 5).shape[0],     len(acaps.countrylist)))\n",
    "print('CORONANET: {:8d} {:9d}'.format(coronanet.MeasureList(mincount = 5).shape[0], len(coronanet.countrylist)))\n",
    "print('HITCOVID:  {:8d} {:9d}'.format(hitcovid.MeasureList(mincount = 5).shape[0],  len(hitcovid.countrylist)))\n"
   ]
  },
  {
   "cell_type": "code",
   "execution_count": null,
   "metadata": {},
   "outputs": [],
   "source": [
    "print('           {:8s} {:9s}'.format('Measures','Countries'))\n",
    "print('CCCSL:     {:8d} {:9d}'.format(cccsl.MeasureList().shape[0],     len(cccsl.countrylist)))\n",
    "print('OXFORD:    {:8d} {:9d}'.format(oxford.MeasureList().shape[0],    len(oxford.countrylist)))\n",
    "print('WHOPHSM:   {:8d} {:9d}'.format(whophsm.MeasureList().shape[0],   len(whophsm.countrylist)))\n",
    "print('ACAPS:     {:8d} {:9d}'.format(acaps.MeasureList().shape[0],     len(acaps.countrylist)))\n",
    "print('CORONANET: {:8d} {:9d}'.format(coronanet.MeasureList().shape[0], len(coronanet.countrylist)))\n",
    "print('HITCOVID:  {:8d} {:9d}'.format(hitcovid.MeasureList().shape[0],  len(hitcovid.countrylist)))\n"
   ]
  },
  {
   "cell_type": "code",
   "execution_count": null,
   "metadata": {},
   "outputs": [],
   "source": [
    "# generate a full table for a database\n",
    "\n",
    "def AddDF(df1,df2):\n",
    "    if not df1 is None:\n",
    "        if df2 is None:\n",
    "            return df1\n",
    "        else:\n",
    "            return pd.concat([df1,df2], ignore_index = True, sort = False)\n",
    "    else:\n",
    "        return df2\n",
    "    \n",
    "\n",
    "finaltable = None\n",
    "for country in cccsl.countrylist:\n",
    "    country_implementation_table = cccsl.ImplementationTable(country = country, mincount = 5).reset_index().rename(columns = {'index':'Date'})\n",
    "    country_implementation_table['country'] = country\n",
    "    finaltable = AddDF(finaltable, country_implementation_table)\n",
    "finaltable.fillna(0, inplace = True)\n",
    "\n",
    "finaltable"
   ]
  },
  {
   "cell_type": "code",
   "execution_count": null,
   "metadata": {},
   "outputs": [],
   "source": [
    "external_cccsl = pd.read_csv('COVID19_data_PAPER_VERSION.csv', sep = ';')\n",
    "external_whophsm = pd.read_csv('COVID19_data_PAPER_VERSION_WHOPHSM.csv', sep = ';')\n",
    "external_coronanet = pd.read_csv('COVID19_data_PAPER_VERSION_CORONANET.csv', sep = ';')\n",
    "external_oxford = pd.read_csv('COVID19_data_PAPER_VERSION_OXFORD.csv', sep = ';')"
   ]
  },
  {
   "cell_type": "code",
   "execution_count": null,
   "metadata": {},
   "outputs": [],
   "source": [
    "oxford_ext_cols = list(external_oxford.columns)\n",
    "for measureID in oxford.MeasureList(mincount=5).index:\n",
    "    if measureID in oxford_ext_cols:\n",
    "        print('found:      {}'.format(measureID))\n",
    "        oxford_ext_cols.remove(measureID)\n",
    "    else:\n",
    "        print('not found:  {}'.format(measureID))\n",
    "print('remaining: ', oxford_ext_cols)\n",
    "print('difference:', set(oxford.MeasureList().index).difference(set(oxford.MeasureList(mincount=5).index)))"
   ]
  },
  {
   "cell_type": "code",
   "execution_count": null,
   "metadata": {},
   "outputs": [],
   "source": [
    "cccsl_ext_cols = list(external_cccsl.columns)\n",
    "for measureID,measuredata in cccsl.MeasureList(mincount=5).iterrows():\n",
    "    mID = measuredata['Measure_L1'] + ' -- ' + measuredata['Measure_L2']\n",
    "    if mID in cccsl_ext_cols:\n",
    "        print('found:      {}'.format(mID))\n",
    "        cccsl_ext_cols.remove(mID)\n",
    "    else:\n",
    "        print('not found:  {}'.format(mID))\n",
    "print('remaining: ', cccsl_ext_cols)\n",
    "print('difference:', set(cccsl.MeasureList().index).difference(set(cccsl.MeasureList(mincount=5).index)))"
   ]
  },
  {
   "cell_type": "code",
   "execution_count": null,
   "metadata": {},
   "outputs": [],
   "source": [
    "whophsm_ext_cols = list(external_whophsm.columns)\n",
    "for measureID in whophsm.MeasureList(mincount = 5).index:\n",
    "    if measureID in whophsm_ext_cols:\n",
    "        print('found:      {}'.format(measureID))\n",
    "        whophsm_ext_cols.remove(measureID)\n",
    "    else:\n",
    "        print('not found:  {}'.format(measureID))\n",
    "print('remaining: ', whophsm_ext_cols)\n",
    "print('difference:', set(whophsm.MeasureList().index).difference(set(whophsm.MeasureList(mincount=5).index)))"
   ]
  },
  {
   "cell_type": "code",
   "execution_count": null,
   "metadata": {
    "scrolled": false
   },
   "outputs": [],
   "source": [
    "coronanet_ext_cols = list(external_coronanet.columns)\n",
    "for measureID in coronanet.MeasureList(mincount = 5).index:\n",
    "    if measureID in coronanet_ext_cols:\n",
    "        print('found:      {}'.format(measureID))\n",
    "        coronanet_ext_cols.remove(measureID)\n",
    "    else:\n",
    "        print('not found:  {}'.format(measureID))\n",
    "print('remaining: ', coronanet_ext_cols)\n",
    "print('difference:', set(coronanet.MeasureList().index).difference(set(coronanet.MeasureList(mincount=5).index)))"
   ]
  },
  {
   "cell_type": "code",
   "execution_count": null,
   "metadata": {},
   "outputs": [],
   "source": []
  }
 ],
 "metadata": {
  "kernelspec": {
   "display_name": "Python 3",
   "language": "python",
   "name": "python3"
  },
  "language_info": {
   "codemirror_mode": {
    "name": "ipython",
    "version": 3
   },
   "file_extension": ".py",
   "mimetype": "text/x-python",
   "name": "python",
   "nbconvert_exporter": "python",
   "pygments_lexer": "ipython3",
   "version": "3.7.8"
  }
 },
 "nbformat": 4,
 "nbformat_minor": 2
}
